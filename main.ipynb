{
 "cells": [
  {
   "cell_type": "markdown",
   "metadata": {
    "id": "ydRV-7ffrUZR"
   },
   "source": [
    "# Recommender Systems, Surprise (library), SVD, SVD++, NMF\n",
    "\n",
    "Take the `movielens` dataset and build a matrix factorization model. In the `surprise` library, it is called SVD. Select the best parameters using cross-validation, experiment with other algorithms (SVD++, NMF), and choose the one that is optimal."
   ]
  },
  {
   "cell_type": "code",
   "execution_count": 1,
   "metadata": {
    "id": "fSbbk1_1rgcs"
   },
   "outputs": [],
   "source": [
    "import numpy as np\n",
    "import pandas as pd\n",
    "import matplotlib.pyplot as plt\n",
    "from surprise import Dataset, Reader, SVD, SVDpp, NMF, accuracy\n",
    "from surprise.model_selection import cross_validate, GridSearchCV, train_test_split"
   ]
  },
  {
   "cell_type": "code",
   "execution_count": 2,
   "metadata": {
    "colab": {
     "base_uri": "https://localhost:8080/"
    },
    "id": "GDx_Q66peOpU",
    "outputId": "452f7dfc-e1b9-4f28-a6f1-373a853f7176"
   },
   "outputs": [],
   "source": [
    "# Load the \"movielens\" dataset.\n",
    "data = Dataset.load_builtin('ml-100k')"
   ]
  },
  {
   "cell_type": "code",
   "execution_count": 3,
   "metadata": {
    "colab": {
     "base_uri": "https://localhost:8080/"
    },
    "id": "wbO_yfEZfUtn",
    "outputId": "5a902fd0-e45a-4f97-ac27-3d246878628b",
    "scrolled": true
   },
   "outputs": [
    {
     "name": "stdout",
     "output_type": "stream",
     "text": [
      "  user_id movie_id  rating  timestamp\n",
      "0     196      242     3.0  881250949\n",
      "1     186      302     3.0  891717742\n",
      "2      22      377     1.0  878887116\n",
      "3     244       51     2.0  880606923\n",
      "4     166      346     1.0  886397596\n",
      "5     298      474     4.0  884182806\n",
      "6     115      265     2.0  881171488\n",
      "7     253      465     5.0  891628467\n",
      "8     305      451     3.0  886324817\n",
      "9       6       86     3.0  883603013\n"
     ]
    }
   ],
   "source": [
    "# Let's see what data the dataset contains.\n",
    "df = pd.DataFrame(data.raw_ratings, columns=['user_id', 'movie_id', 'rating', 'timestamp'])\n",
    "print(df.head(10))"
   ]
  },
  {
   "cell_type": "markdown",
   "metadata": {
    "id": "mbb0uQJClDWk"
   },
   "source": [
    "Let's build a model using three algorithms: `SVD`, `SVD++`, and `NMF`, and use cross-validation to find the `RMSE` and `MAE` parameters."
   ]
  },
  {
   "cell_type": "code",
   "execution_count": 4,
   "metadata": {
    "colab": {
     "base_uri": "https://localhost:8080/"
    },
    "id": "wLjZ-BlZkPzy",
    "outputId": "56806e90-5442-41d9-fbe3-c6d3c0e9a0c2"
   },
   "outputs": [
    {
     "name": "stdout",
     "output_type": "stream",
     "text": [
      "Evaluating RMSE, MAE of algorithm SVD on 5 split(s).\n",
      "\n",
      "                  Fold 1  Fold 2  Fold 3  Fold 4  Fold 5  Mean    Std     \n",
      "RMSE (testset)    0.9390  0.9363  0.9356  0.9378  0.9336  0.9365  0.0019  \n",
      "MAE (testset)     0.7425  0.7390  0.7363  0.7364  0.7353  0.7379  0.0026  \n",
      "Fit time          0.89    0.89    0.91    0.89    0.90    0.90    0.01    \n",
      "Test time         0.11    0.16    0.10    0.11    0.10    0.12    0.02    \n"
     ]
    },
    {
     "data": {
      "text/plain": [
       "{'test_rmse': array([0.93896676, 0.93633029, 0.93556503, 0.93784516, 0.93357806]),\n",
       " 'test_mae': array([0.74254483, 0.73901385, 0.73628676, 0.73636909, 0.73529554]),\n",
       " 'fit_time': (0.887467622756958,\n",
       "  0.8944242000579834,\n",
       "  0.9050407409667969,\n",
       "  0.8865628242492676,\n",
       "  0.9034526348114014),\n",
       " 'test_time': (0.11262035369873047,\n",
       "  0.16237854957580566,\n",
       "  0.10328793525695801,\n",
       "  0.1114358901977539,\n",
       "  0.1048281192779541)}"
      ]
     },
     "execution_count": 4,
     "metadata": {},
     "output_type": "execute_result"
    }
   ],
   "source": [
    "# SVD\n",
    "algo = SVD()\n",
    "cross_validate(algo, data, measures=['RMSE', 'MAE'], cv=5, verbose=True)"
   ]
  },
  {
   "cell_type": "code",
   "execution_count": 5,
   "metadata": {
    "colab": {
     "base_uri": "https://localhost:8080/"
    },
    "id": "h5HQSqBklZsI",
    "outputId": "7da13ed7-9268-46a4-be0b-69a5010291fe"
   },
   "outputs": [
    {
     "name": "stdout",
     "output_type": "stream",
     "text": [
      "Evaluating RMSE, MAE of algorithm SVDpp on 5 split(s).\n",
      "\n",
      "                  Fold 1  Fold 2  Fold 3  Fold 4  Fold 5  Mean    Std     \n",
      "RMSE (testset)    0.9227  0.9123  0.9244  0.9248  0.9190  0.9206  0.0046  \n",
      "MAE (testset)     0.7227  0.7169  0.7258  0.7232  0.7236  0.7224  0.0030  \n",
      "Fit time          19.95   19.99   20.07   19.92   19.99   19.98   0.05    \n",
      "Test time         3.14    3.16    3.17    3.13    3.12    3.14    0.02    \n"
     ]
    },
    {
     "data": {
      "text/plain": [
       "{'test_rmse': array([0.92271674, 0.91230469, 0.92437204, 0.92476651, 0.91897532]),\n",
       " 'test_mae': array([0.72268506, 0.71691472, 0.72584466, 0.72318087, 0.72362248]),\n",
       " 'fit_time': (19.95340394973755,\n",
       "  19.99152636528015,\n",
       "  20.067801237106323,\n",
       "  19.9155113697052,\n",
       "  19.99117946624756),\n",
       " 'test_time': (3.1406874656677246,\n",
       "  3.1610875129699707,\n",
       "  3.1685688495635986,\n",
       "  3.1338250637054443,\n",
       "  3.1179184913635254)}"
      ]
     },
     "execution_count": 5,
     "metadata": {},
     "output_type": "execute_result"
    }
   ],
   "source": [
    "# SVD++\n",
    "algo_svdpp = SVDpp()\n",
    "cross_validate(algo_svdpp, data, measures=['RMSE', 'MAE'], cv=5, verbose=True)"
   ]
  },
  {
   "cell_type": "code",
   "execution_count": 6,
   "metadata": {
    "colab": {
     "base_uri": "https://localhost:8080/"
    },
    "id": "nSIxU3Vtlpj7",
    "outputId": "1d6cb77d-e7ec-4ba6-b562-84e23d749d5d"
   },
   "outputs": [
    {
     "name": "stdout",
     "output_type": "stream",
     "text": [
      "Evaluating RMSE, MAE of algorithm NMF on 5 split(s).\n",
      "\n",
      "                  Fold 1  Fold 2  Fold 3  Fold 4  Fold 5  Mean    Std     \n",
      "RMSE (testset)    0.9654  0.9670  0.9681  0.9520  0.9634  0.9632  0.0058  \n",
      "MAE (testset)     0.7590  0.7590  0.7616  0.7481  0.7566  0.7569  0.0046  \n",
      "Fit time          1.67    1.86    1.85    1.61    1.62    1.72    0.11    \n",
      "Test time         0.08    0.18    0.09    0.08    0.08    0.10    0.04    \n"
     ]
    },
    {
     "data": {
      "text/plain": [
       "{'test_rmse': array([0.96542282, 0.96704694, 0.9681035 , 0.95198336, 0.96343812]),\n",
       " 'test_mae': array([0.75899955, 0.75904029, 0.76155225, 0.7481255 , 0.75660774]),\n",
       " 'fit_time': (1.6699450016021729,\n",
       "  1.859358310699463,\n",
       "  1.85313081741333,\n",
       "  1.6117832660675049,\n",
       "  1.6186320781707764),\n",
       " 'test_time': (0.08220338821411133,\n",
       "  0.17684221267700195,\n",
       "  0.09241461753845215,\n",
       "  0.08104872703552246,\n",
       "  0.08226251602172852)}"
      ]
     },
     "execution_count": 6,
     "metadata": {},
     "output_type": "execute_result"
    }
   ],
   "source": [
    "# NMF\n",
    "algo_nmf = NMF()\n",
    "cross_validate(algo_nmf, data, measures=['RMSE', 'MAE'], cv=5, verbose=True)"
   ]
  },
  {
   "cell_type": "markdown",
   "metadata": {
    "id": "5XVv6IY_masp"
   },
   "source": [
    "We obtained the RMSE and MAE evaluation results for all three algorithms. Based on the analyzed data, the following conclusions can be made:\n",
    "\n",
    "- **SVD Algorithm**: It has an average RMSE of approximately 0.9365 and an MAE of around 0.7379. This algorithm demonstrated decent performance with moderate training and testing times.\n",
    "\n",
    "- **SVD++ Algorithm**: It showed better results compared to SVD, with an average RMSE of 0.9206 and an average MAE of 0.7224, indicating higher prediction accuracy. However, the training and testing time is significantly longer, which is an important consideration for large datasets or limited computational resources.\n",
    "\n",
    "- **NMF Algorithm**: It has the highest error values among the three algorithms, with an average RMSE of 0.9632 and an average MAE of 0.7569, indicating lower prediction accuracy compared to SVD and SVD++. Its training and testing time is similar to that of SVD.\n",
    "\n",
    "*In conclusion, the SVD++ algorithm seems to be the best choice here, as the dataset is relatively small. However, if we were working with a larger dataset, such as one with 1 million entries, it is highly likely that the SVD algorithm would be more suitable due to its lower computational demands.*\n",
    "\n",
    "***"
   ]
  },
  {
   "cell_type": "markdown",
   "metadata": {
    "id": "0-UAQTzhqOwB"
   },
   "source": [
    "**Let's apply the GridSearchCV method to find the optimal hyperparameters.**"
   ]
  },
  {
   "cell_type": "code",
   "execution_count": 15,
   "metadata": {
    "colab": {
     "base_uri": "https://localhost:8080/"
    },
    "id": "0RkDFcDzqmE1",
    "outputId": "305c70c7-b891-4eef-9cae-d56e063f6d5b"
   },
   "outputs": [
    {
     "name": "stdout",
     "output_type": "stream",
     "text": [
      "RMSE for SVD++: 0.9636194713584136\n",
      "{'n_epochs': 10, 'lr_all': 0.005, 'reg_all': 0.4}\n",
      "MAE for SVD++: 0.772301661207014\n",
      "{'n_epochs': 10, 'lr_all': 0.005, 'reg_all': 0.4}\n"
     ]
    }
   ],
   "source": [
    "param_grid = {\"n_epochs\": [5, 10], \"lr_all\": [0.002, 0.005], \"reg_all\": [0.4, 0.6]}\n",
    "gs = GridSearchCV(SVDpp, param_grid, measures=[\"rmse\", \"mae\"], cv=3)\n",
    "\n",
    "gs.fit(data)\n",
    "\n",
    "print(f\"RMSE for SVD++: {gs.best_score['rmse']}\")\n",
    "print(gs.best_params['rmse'])\n",
    "print(f\"MAE for SVD++: {gs.best_score['mae']}\")\n",
    "print(gs.best_params['mae'])\n",
    "\n",
    "algo_rmse_svd_pp = SVDpp(**gs.best_params['rmse'])\n",
    "algo_mae_svd_pp = SVDpp(**gs.best_params['mae'])"
   ]
  },
  {
   "cell_type": "markdown",
   "metadata": {
    "id": "YUgaU0r2q2m4"
   },
   "source": [
    "Now that we have a model optimized for both metrics and the hyperparameters are tuned, we can evaluate it on the test set to check its accuracy. To do this, we will split our dataset into training and testing sets in an 80:20 ratio."
   ]
  },
  {
   "cell_type": "code",
   "execution_count": 16,
   "metadata": {
    "id": "STbdsXPkq07a"
   },
   "outputs": [],
   "source": [
    "trainset, testset = train_test_split(data, test_size=0.2)"
   ]
  },
  {
   "cell_type": "code",
   "execution_count": 17,
   "metadata": {
    "colab": {
     "base_uri": "https://localhost:8080/"
    },
    "id": "-WeoqCefq_42",
    "outputId": "b66f8b8d-d4a9-41f2-edb5-59e2dddcc330"
   },
   "outputs": [
    {
     "name": "stdout",
     "output_type": "stream",
     "text": [
      "RMSE: 0.9562\n",
      "MAE:  0.7664\n"
     ]
    }
   ],
   "source": [
    "# Training the model on the training set.\n",
    "algo_rmse_svd_pp.fit(trainset)\n",
    "algo_mae_svd_pp.fit(trainset)\n",
    "\n",
    "# Making predictions on the test set.\n",
    "predictions_rmse = algo_rmse_svd_pp.test(testset)\n",
    "predictions_mae = algo_mae_svd_pp.test(testset)\n",
    "\n",
    "# Evaluation of the SVD++ model.\n",
    "accuracy_rmse_svd_pp = accuracy.rmse(predictions_rmse)\n",
    "accuracy_mae_svd_pp = accuracy.mae(predictions_mae)"
   ]
  },
  {
   "cell_type": "code",
   "execution_count": 10,
   "metadata": {
    "colab": {
     "base_uri": "https://localhost:8080/"
    },
    "id": "xohtKO_prcwb",
    "outputId": "777cd346-5553-4c2b-9362-07d7ffc8ec84"
   },
   "outputs": [
    {
     "name": "stdout",
     "output_type": "stream",
     "text": [
      "RMSE for SVD: 0.9643222690994252\n",
      "{'n_epochs': 10, 'lr_all': 0.005, 'reg_all': 0.4}\n",
      "MAE for SVD: 0.7729356554441926\n",
      "{'n_epochs': 10, 'lr_all': 0.005, 'reg_all': 0.4}\n"
     ]
    }
   ],
   "source": [
    "# Finding the optimal hyperparameters for the SVD algorithm.\n",
    "param_grid = {\"n_epochs\": [5, 10], \"lr_all\": [0.002, 0.005], \"reg_all\": [0.4, 0.6]}\n",
    "gs = GridSearchCV(SVD, param_grid, measures=[\"rmse\", \"mae\"], cv=3)\n",
    "\n",
    "gs.fit(data)\n",
    "\n",
    "print(f\"RMSE for SVD: {gs.best_score['rmse']}\")\n",
    "print(gs.best_params['rmse'])\n",
    "print(f\"MAE for SVD: {gs.best_score['mae']}\")\n",
    "print(gs.best_params['mae'])\n",
    "\n",
    "algo_rmse_svd = SVD(**gs.best_params['rmse'])\n",
    "algo_mae_svd = SVD(**gs.best_params['mae'])"
   ]
  },
  {
   "cell_type": "code",
   "execution_count": 11,
   "metadata": {
    "colab": {
     "base_uri": "https://localhost:8080/"
    },
    "id": "fe3X3SYnr7ix",
    "outputId": "240eeb2e-c94e-4fc9-f430-1d615d76f4b8"
   },
   "outputs": [
    {
     "name": "stdout",
     "output_type": "stream",
     "text": [
      "RMSE: 0.9584\n",
      "MAE:  0.7686\n"
     ]
    }
   ],
   "source": [
    "trainset, testset = train_test_split(data, test_size=0.2)\n",
    "\n",
    "algo_rmse_svd.fit(trainset)\n",
    "algo_mae_svd.fit(trainset)\n",
    "\n",
    "predictions_rmse = algo_rmse_svd.test(testset)\n",
    "predictions_mae = algo_mae_svd.test(testset)\n",
    "\n",
    "accuracy_rmse_svd = accuracy.rmse(predictions_rmse)\n",
    "accuracy_mae_svd = accuracy.mae(predictions_mae)"
   ]
  },
  {
   "cell_type": "code",
   "execution_count": 12,
   "metadata": {
    "colab": {
     "base_uri": "https://localhost:8080/"
    },
    "id": "DRk1US-0r9cR",
    "outputId": "ab0cf1f2-ed0f-4d64-b653-99051f9cf39a"
   },
   "outputs": [
    {
     "name": "stdout",
     "output_type": "stream",
     "text": [
      "RMSE for NMF: 0.9671994564588698\n",
      "{'n_epochs': 10, 'n_factors': 15, 'reg_pu': 0.15, 'reg_qi': 0.15}\n",
      "MAE for NMF: 0.760068430826902\n",
      "{'n_epochs': 10, 'n_factors': 15, 'reg_pu': 0.1, 'reg_qi': 0.15}\n"
     ]
    }
   ],
   "source": [
    "# Finding the optimal hyperparameters for the NMF algorithm.\n",
    "param_grid = {\"n_epochs\": [5, 10], \"n_factors\": [15, 50, 100], \"reg_pu\": [0.05, 0.1, 0.15], \"reg_qi\": [0.05, 0.1, 0.15]}\n",
    "gs = GridSearchCV(NMF, param_grid, measures=[\"rmse\", \"mae\"], cv=3)\n",
    "\n",
    "gs.fit(data)\n",
    "\n",
    "print(f\"RMSE for NMF: {gs.best_score['rmse']}\")\n",
    "print(gs.best_params['rmse'])\n",
    "print(f\"MAE for NMF: {gs.best_score['mae']}\")\n",
    "print(gs.best_params['mae'])\n",
    "\n",
    "algo_rmse_nmf = NMF(**gs.best_params['rmse'])\n",
    "algo_mae_nmf = NMF(**gs.best_params['mae'])"
   ]
  },
  {
   "cell_type": "code",
   "execution_count": 13,
   "metadata": {
    "colab": {
     "base_uri": "https://localhost:8080/"
    },
    "id": "ZlAYjnsysB70",
    "outputId": "ce4106bd-03ac-45c0-b4d6-c15bfd1ffe5e"
   },
   "outputs": [
    {
     "name": "stdout",
     "output_type": "stream",
     "text": [
      "RMSE: 0.9613\n",
      "MAE:  0.7547\n"
     ]
    }
   ],
   "source": [
    "trainset, testset = train_test_split(data, test_size=0.2)\n",
    "\n",
    "algo_rmse_nmf.fit(trainset)\n",
    "algo_mae_nmf.fit(trainset)\n",
    "\n",
    "predictions_rmse = algo_rmse_nmf.test(testset)\n",
    "predictions_mae = algo_mae_nmf.test(testset)\n",
    "\n",
    "accuracy_rmse_nmf = accuracy.rmse(predictions_rmse)\n",
    "accuracy_mae_nmf = accuracy.mae(predictions_mae)"
   ]
  },
  {
   "cell_type": "code",
   "execution_count": 18,
   "metadata": {
    "colab": {
     "base_uri": "https://localhost:8080/"
    },
    "id": "5pFjGExnsF9D",
    "outputId": "b4c0277c-928c-4e77-de33-1a4ef2f9e381"
   },
   "outputs": [
    {
     "name": "stdout",
     "output_type": "stream",
     "text": [
      "SVD: RMSE - 0.9583904462140694, MAE - 0.7685710921496915\n",
      "SVD++: RMSE - 0.9561868993977636, MAE - 0.7663619030161828\n",
      "NMF: RMSE - 0.9613348970239839, MAE - 0.7546872291049601\n"
     ]
    }
   ],
   "source": [
    "# Comparison:\n",
    "print(f\"SVD: RMSE - {accuracy_rmse_svd}, MAE - {accuracy_mae_svd}\")\n",
    "print(f\"SVD++: RMSE - {accuracy_rmse_svd_pp}, MAE - {accuracy_mae_svd_pp}\")\n",
    "print(f\"NMF: RMSE - {accuracy_rmse_nmf}, MAE - {accuracy_mae_nmf}\")"
   ]
  },
  {
   "cell_type": "markdown",
   "metadata": {
    "id": "txxn39NztUU2"
   },
   "source": [
    "The SVD++ algorithm showed the best result for the RMSE metric (0.9561) and almost the best for MAE (0.7663), indicating that the model performs well in predicting ratings overall, especially in terms of squared errors. However, this could be related to the proper selection of parameters in the param_grid.\n",
    "\n",
    "Using the cross-validation method, SVD++ was also the best."
   ]
  }
 ],
 "metadata": {
  "colab": {
   "authorship_tag": "ABX9TyNoLpboJlMyO8vb7WJgec5r",
   "include_colab_link": true,
   "provenance": []
  },
  "kernelspec": {
   "display_name": "Python 3 (ipykernel)",
   "language": "python",
   "name": "python3"
  },
  "language_info": {
   "codemirror_mode": {
    "name": "ipython",
    "version": 3
   },
   "file_extension": ".py",
   "mimetype": "text/x-python",
   "name": "python",
   "nbconvert_exporter": "python",
   "pygments_lexer": "ipython3",
   "version": "3.12.3"
  }
 },
 "nbformat": 4,
 "nbformat_minor": 4
}
